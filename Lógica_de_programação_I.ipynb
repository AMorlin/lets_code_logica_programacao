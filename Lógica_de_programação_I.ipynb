{
  "nbformat": 4,
  "nbformat_minor": 0,
  "metadata": {
    "colab": {
      "provenance": [],
      "authorship_tag": "ABX9TyNBDiqEDSWK7SUeP+kpGYC1",
      "include_colab_link": true
    },
    "kernelspec": {
      "name": "python3",
      "display_name": "Python 3"
    },
    "language_info": {
      "name": "python"
    }
  },
  "cells": [
    {
      "cell_type": "markdown",
      "metadata": {
        "id": "view-in-github",
        "colab_type": "text"
      },
      "source": [
        "<a href=\"https://colab.research.google.com/github/AMorlin/lets_code_logica_programacao/blob/main/L%C3%B3gica_de_programa%C3%A7%C3%A3o_I.ipynb\" target=\"_parent\"><img src=\"https://colab.research.google.com/assets/colab-badge.svg\" alt=\"Open In Colab\"/></a>"
      ]
    },
    {
      "cell_type": "markdown",
      "source": [
        "Escreva um programa que solicita 5 números inteiros ao usuário, através de um laço while, e ao final mostre o maior número digitado pelo usuário."
      ],
      "metadata": {
        "id": "KdtcCqw-59sj"
      }
    },
    {
      "cell_type": "code",
      "source": [
        "contador = 1\n",
        "maior = int()\n",
        "\n",
        "while contador <= 5:\n",
        "    num = int(input('Digite um número: '))\n",
        "    contador +=1\n",
        "    \n",
        "    if num >= maior:\n",
        "        maior = int(num)\n",
        "\n",
        "print(maior)"
      ],
      "metadata": {
        "id": "9Vx0e7l66EcH"
      },
      "execution_count": null,
      "outputs": []
    },
    {
      "cell_type": "markdown",
      "source": [
        "Tabuada de multiplicação de um número inteiro\n",
        "de forma que seja impressa assim:\n",
        "\n",
        "5 x 1 = 5\n",
        "5 x 2 = 10\n",
        "5 x 3 = 15\n",
        "5 x 4 = 20\n",
        "5 x 5 = 25\n",
        "5 x 6 = 30\n",
        "5 x 7 = 35\n",
        "5 x 8 = 40\n",
        "5 x 9 = 45\n",
        "5 x 10 = 50"
      ],
      "metadata": {
        "id": "mAIQDOiM_WJF"
      }
    },
    {
      "cell_type": "code",
      "source": [
        "contador = 1\n",
        "num = int(input('Digite um número: '))\n",
        "while contador <= 10: \n",
        "    \n",
        "    print(f\"{num} x {contador} = \", (num * contador))\n",
        "    contador += 1"
      ],
      "metadata": {
        "colab": {
          "base_uri": "https://localhost:8080/"
        },
        "id": "QDMSq29c__qb",
        "outputId": "65a136c5-f244-4834-8a7b-50a73a3ef008"
      },
      "execution_count": null,
      "outputs": [
        {
          "output_type": "stream",
          "name": "stdout",
          "text": [
            "Digite um número: 10\n",
            "10 x 1 =  10\n",
            "10 x 2 =  20\n",
            "10 x 3 =  30\n",
            "10 x 4 =  40\n",
            "10 x 5 =  50\n",
            "10 x 6 =  60\n",
            "10 x 7 =  70\n",
            "10 x 8 =  80\n",
            "10 x 9 =  90\n",
            "10 x 10 =  100\n"
          ]
        }
      ]
    },
    {
      "cell_type": "markdown",
      "source": [],
      "metadata": {
        "id": "xC6Pp_WUQ0Mq"
      }
    },
    {
      "cell_type": "code",
      "source": [
        "num = int(input('Digite um número: '))\n",
        "for i in range(1,11):\n",
        "    print(f\"{num} x {i} = \", (num * i))"
      ],
      "metadata": {
        "colab": {
          "base_uri": "https://localhost:8080/"
        },
        "id": "OQ-6UjgRPWvP",
        "outputId": "a67c75c9-65e2-4eaf-d8d8-89e305fab5ee"
      },
      "execution_count": 29,
      "outputs": [
        {
          "output_type": "stream",
          "name": "stdout",
          "text": [
            "Digite um número: 2\n",
            "2 x 1 =  2\n",
            "2 x 2 =  4\n",
            "2 x 3 =  6\n",
            "2 x 4 =  8\n",
            "2 x 5 =  10\n",
            "2 x 6 =  12\n",
            "2 x 7 =  14\n",
            "2 x 8 =  16\n",
            "2 x 9 =  18\n",
            "2 x 10 =  20\n"
          ]
        }
      ]
    },
    {
      "cell_type": "markdown",
      "source": [
        "Programa que receba uma palavra e\n",
        "imprima a quantidade de vogais e consoantes"
      ],
      "metadata": {
        "id": "xMjFFShKT6C7"
      }
    },
    {
      "cell_type": "code",
      "source": [
        "palavra = input('Digite uma palavra: ')\n",
        "vogais = 0\n",
        "consoantes = 0\n",
        "for i in palavra:\n",
        "    if i in 'aeiouAEIOU':\n",
        "        vogais += 1\n",
        "    else:\n",
        "        consoantes +=1\n",
        "print(f'A palavra {palavra} tem {vogais} vogais e {consoantes} consoantes')"
      ],
      "metadata": {
        "colab": {
          "base_uri": "https://localhost:8080/"
        },
        "id": "gyH7rEYET2_o",
        "outputId": "0566eb72-86c2-467e-96f1-1eb0a3281e66"
      },
      "execution_count": 32,
      "outputs": [
        {
          "output_type": "stream",
          "name": "stdout",
          "text": [
            "Digite uma palavra: alexandre\n",
            "A palavra alexandre tem 4 vogais e 5 consoantes\n"
          ]
        }
      ]
    },
    {
      "cell_type": "code",
      "source": [
        "l = [1, 2, 4.5555555, 'davi', [False, True], [1, 2, [4, 5, 6, 7], 4]]\n",
        "listas = 0\n",
        "x = 0\n",
        "\n",
        "for i in l:\n",
        "    if type(i) == list:\n",
        "        listas += 1\n",
        "        while type(i) == list\n",
        "            listas += 1\n",
        "    continue\n",
        "    \n",
        "print(listas)\n",
        "\n"
      ],
      "metadata": {
        "colab": {
          "base_uri": "https://localhost:8080/",
          "height": 235
        },
        "id": "jBg27olMXCnl",
        "outputId": "6b64ebbd-19e8-4b86-c925-4630398a4dac"
      },
      "execution_count": 20,
      "outputs": [
        {
          "output_type": "error",
          "ename": "KeyboardInterrupt",
          "evalue": "ignored",
          "traceback": [
            "\u001b[0;31m---------------------------------------------------------------------------\u001b[0m",
            "\u001b[0;31mKeyboardInterrupt\u001b[0m                         Traceback (most recent call last)",
            "\u001b[0;32m<ipython-input-20-a6c6d5f1ae70>\u001b[0m in \u001b[0;36m<module>\u001b[0;34m\u001b[0m\n\u001b[1;32m      5\u001b[0m \u001b[0;32mfor\u001b[0m \u001b[0mi\u001b[0m \u001b[0;32min\u001b[0m \u001b[0ml\u001b[0m\u001b[0;34m:\u001b[0m\u001b[0;34m\u001b[0m\u001b[0;34m\u001b[0m\u001b[0m\n\u001b[1;32m      6\u001b[0m     \u001b[0;32mwhile\u001b[0m \u001b[0;32mTrue\u001b[0m\u001b[0;34m:\u001b[0m\u001b[0;34m\u001b[0m\u001b[0;34m\u001b[0m\u001b[0m\n\u001b[0;32m----> 7\u001b[0;31m         \u001b[0;32mif\u001b[0m \u001b[0mtype\u001b[0m\u001b[0;34m(\u001b[0m\u001b[0mi\u001b[0m\u001b[0;34m)\u001b[0m \u001b[0;34m==\u001b[0m \u001b[0mlist\u001b[0m\u001b[0;34m:\u001b[0m\u001b[0;34m\u001b[0m\u001b[0;34m\u001b[0m\u001b[0m\n\u001b[0m\u001b[1;32m      8\u001b[0m             \u001b[0mlistas\u001b[0m \u001b[0;34m+=\u001b[0m \u001b[0;36m1\u001b[0m\u001b[0;34m\u001b[0m\u001b[0;34m\u001b[0m\u001b[0m\n\u001b[1;32m      9\u001b[0m     \u001b[0;32mcontinue\u001b[0m\u001b[0;34m\u001b[0m\u001b[0;34m\u001b[0m\u001b[0m\n",
            "\u001b[0;31mKeyboardInterrupt\u001b[0m: "
          ]
        }
      ]
    },
    {
      "cell_type": "markdown",
      "source": [
        "### Crie um programa, utilizando listas que peça ao usuário nome, idade, altura, peso, estado civil (casado/solteiro), e imprima semelhante a:\n",
        "\n",
        "```\n",
        "nome: davi\n",
        "idade: 30\n",
        "altura: 1.65\n",
        "peso: 80\n",
        "Estado civil:\n",
        "1. Solteiro\n",
        "2. Casado\n",
        "\n",
        "\n",
        "nome: davi\n",
        "idade: 30\n",
        "altura: 1.65\n",
        "peso: 80\n",
        "Estado civil: Solteiro\n",
        "```"
      ],
      "metadata": {
        "id": "1iQC3VOuk9L_"
      }
    },
    {
      "cell_type": "code",
      "source": [
        "lista = []\n",
        "\n",
        "lista.append(input('Digite seu nome: '))\n",
        "lista.append(input('Digite sua idade: '))\n",
        "lista.append(input('Digite sua altura: '))\n",
        "lista.append(input('Digite seu peso: '))\n",
        "lista.append(input('Digite seu Estado civil \\n1. Solteiro\\n2. Casado: '))\n",
        "\n",
        "print(f\"nome: {lista[0]}\")\n",
        "print(f\"idade: {lista[1]}\")\n",
        "print(f\"altura: {lista[2]}\")\n",
        "print(f\"peso: {lista[3]}\")\n",
        "print(f\"Estado civil: {lista[4]}\")"
      ],
      "metadata": {
        "colab": {
          "base_uri": "https://localhost:8080/"
        },
        "id": "4Y7XjJuvk-jJ",
        "outputId": "88cb263d-c476-49e2-b97d-9cb38a6c5a73"
      },
      "execution_count": 29,
      "outputs": [
        {
          "output_type": "stream",
          "name": "stdout",
          "text": [
            "Digite seu nome: d\n",
            "Digite sua idade: d\n",
            "Digite sua altura: d\n",
            "Digite seu peso: d\n",
            "Digite seu Estado civil \n",
            "1. Solteiro\n",
            "2. Casado): d\n",
            "nome: d\n",
            "idade: d\n",
            "altura: d\n",
            "peso: d\n",
            "Estado civil: d\n"
          ]
        }
      ]
    },
    {
      "cell_type": "markdown",
      "source": [
        "### Ex: Foram anotadas as idades e alturas de 5 alunos. Faça um Programa que determine quantos alunos com mais de 13 anos  possuem altura inferior à média de altura desses alunos."
      ],
      "metadata": {
        "id": "7lZvZ4KjpGYK"
      }
    },
    {
      "cell_type": "code",
      "source": [
        "alunos = [[10, 1.5], [12, 1.3], [10, 1.6], [14, 1.5], [15, 1.6]]\n",
        "\n",
        "med = 0\n",
        "maior = 0\n",
        "\n",
        "for i in alunos:\n",
        "    med += float(i[1])\n",
        "med = med/len(alunos)  \n",
        "\n",
        "for i in alunos:\n",
        "    if i[0] > 13 and i[1] < med:\n",
        "        maior += 1\n",
        "\n",
        "\n",
        "print(f\"Média de altura: {med}\")\n",
        "print(f\"Alunos maior que 13 anos com altura inferior à {med} de altura: {maior}\")\n",
        "          "
      ],
      "metadata": {
        "colab": {
          "base_uri": "https://localhost:8080/"
        },
        "id": "oZn9EXZgpHmr",
        "outputId": "6e7b1f3f-a817-49b6-bf83-a1bd8eebc15c"
      },
      "execution_count": 38,
      "outputs": [
        {
          "output_type": "stream",
          "name": "stdout",
          "text": [
            "Média de altura: 1.5\n",
            "Alunos maior que 13 anos com altura inferior à 1.5 de altura: 0\n"
          ]
        }
      ]
    },
    {
      "cell_type": "code",
      "source": [
        "lista_alunos = [[1.6, 12],[1.6, 20],[1.2, 20],[1, 20]]\n",
        "soma = 0\n",
        "qtd = 0\n",
        "\n",
        "for i in range(len(lista_alunos)):\n",
        "  soma += lista_alunos[i][0]\n",
        "  if lista_alunos[i][0] < media and lista_alunos[i][1] > 13:\n",
        "    qtd+=1\n",
        "\n",
        "    \n",
        "media = soma/len(lista_alunos)\n",
        "\n",
        "print(media)\n",
        "print(qtd)"
      ],
      "metadata": {
        "colab": {
          "base_uri": "https://localhost:8080/"
        },
        "id": "Jm-RCmjVvUv0",
        "outputId": "7d3bda05-58e4-454e-cb11-7d7d558b127a"
      },
      "execution_count": 43,
      "outputs": [
        {
          "output_type": "stream",
          "name": "stdout",
          "text": [
            "1.35\n",
            "2\n"
          ]
        }
      ]
    }
  ]
}