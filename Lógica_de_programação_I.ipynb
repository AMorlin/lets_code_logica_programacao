{
  "nbformat": 4,
  "nbformat_minor": 0,
  "metadata": {
    "colab": {
      "provenance": [],
      "authorship_tag": "ABX9TyOwow7/1X434U1jKVe8lAQ0",
      "include_colab_link": true
    },
    "kernelspec": {
      "name": "python3",
      "display_name": "Python 3"
    },
    "language_info": {
      "name": "python"
    }
  },
  "cells": [
    {
      "cell_type": "markdown",
      "metadata": {
        "id": "view-in-github",
        "colab_type": "text"
      },
      "source": [
        "<a href=\"https://colab.research.google.com/github/AMorlin/lets_code_logica_programacao/blob/main/L%C3%B3gica_de_programa%C3%A7%C3%A3o_I.ipynb\" target=\"_parent\"><img src=\"https://colab.research.google.com/assets/colab-badge.svg\" alt=\"Open In Colab\"/></a>"
      ]
    },
    {
      "cell_type": "markdown",
      "source": [
        "Escreva um programa que solicita 5 números inteiros ao usuário, através de um laço while, e ao final mostre o maior número digitado pelo usuário."
      ],
      "metadata": {
        "id": "KdtcCqw-59sj"
      }
    },
    {
      "cell_type": "code",
      "source": [
        "contador = 1\n",
        "maior = int()\n",
        "\n",
        "while contador <= 5:\n",
        "    num = int(input('Digite um número: '))\n",
        "    contador +=1\n",
        "    \n",
        "    if num >= maior:\n",
        "        maior = int(num)\n",
        "\n",
        "print(maior)"
      ],
      "metadata": {
        "id": "9Vx0e7l66EcH"
      },
      "execution_count": null,
      "outputs": []
    },
    {
      "cell_type": "markdown",
      "source": [
        "Tabuada de multiplicação de um número inteiro\n",
        "de forma que seja impressa assim:\n",
        "\n",
        "5 x 1 = 5\n",
        "5 x 2 = 10\n",
        "5 x 3 = 15\n",
        "5 x 4 = 20\n",
        "5 x 5 = 25\n",
        "5 x 6 = 30\n",
        "5 x 7 = 35\n",
        "5 x 8 = 40\n",
        "5 x 9 = 45\n",
        "5 x 10 = 50"
      ],
      "metadata": {
        "id": "mAIQDOiM_WJF"
      }
    },
    {
      "cell_type": "code",
      "source": [
        "contador = 1\n",
        "num = int(input('Digite um número: '))\n",
        "while contador <= 10: \n",
        "    \n",
        "    print(f\"{num} x {contador} = \", (num * contador))\n",
        "    contador += 1"
      ],
      "metadata": {
        "colab": {
          "base_uri": "https://localhost:8080/"
        },
        "id": "QDMSq29c__qb",
        "outputId": "65a136c5-f244-4834-8a7b-50a73a3ef008"
      },
      "execution_count": null,
      "outputs": [
        {
          "output_type": "stream",
          "name": "stdout",
          "text": [
            "Digite um número: 10\n",
            "10 x 1 =  10\n",
            "10 x 2 =  20\n",
            "10 x 3 =  30\n",
            "10 x 4 =  40\n",
            "10 x 5 =  50\n",
            "10 x 6 =  60\n",
            "10 x 7 =  70\n",
            "10 x 8 =  80\n",
            "10 x 9 =  90\n",
            "10 x 10 =  100\n"
          ]
        }
      ]
    },
    {
      "cell_type": "markdown",
      "source": [],
      "metadata": {
        "id": "xC6Pp_WUQ0Mq"
      }
    },
    {
      "cell_type": "code",
      "source": [
        "num = int(input('Digite um número: '))\n",
        "for i in range(1,11):\n",
        "    print(f\"{num} x {i} = \", (num * i))"
      ],
      "metadata": {
        "colab": {
          "base_uri": "https://localhost:8080/"
        },
        "id": "OQ-6UjgRPWvP",
        "outputId": "a67c75c9-65e2-4eaf-d8d8-89e305fab5ee"
      },
      "execution_count": 29,
      "outputs": [
        {
          "output_type": "stream",
          "name": "stdout",
          "text": [
            "Digite um número: 2\n",
            "2 x 1 =  2\n",
            "2 x 2 =  4\n",
            "2 x 3 =  6\n",
            "2 x 4 =  8\n",
            "2 x 5 =  10\n",
            "2 x 6 =  12\n",
            "2 x 7 =  14\n",
            "2 x 8 =  16\n",
            "2 x 9 =  18\n",
            "2 x 10 =  20\n"
          ]
        }
      ]
    },
    {
      "cell_type": "markdown",
      "source": [
        "Programa que receba uma palavra e\n",
        "imprima a quantidade de vogais e consoantes"
      ],
      "metadata": {
        "id": "xMjFFShKT6C7"
      }
    },
    {
      "cell_type": "code",
      "source": [
        "palavra = input('Digite uma palavra: ')\n",
        "vogais = 0\n",
        "consoantes = 0\n",
        "for i in palavra:\n",
        "    if i in 'aeiouAEIOU':\n",
        "        vogais += 1\n",
        "    else:\n",
        "        consoantes +=1\n",
        "print(f'A palavra {palavra} tem {vogais} vogais e {consoantes} consoantes')"
      ],
      "metadata": {
        "colab": {
          "base_uri": "https://localhost:8080/"
        },
        "id": "gyH7rEYET2_o",
        "outputId": "0566eb72-86c2-467e-96f1-1eb0a3281e66"
      },
      "execution_count": 32,
      "outputs": [
        {
          "output_type": "stream",
          "name": "stdout",
          "text": [
            "Digite uma palavra: alexandre\n",
            "A palavra alexandre tem 4 vogais e 5 consoantes\n"
          ]
        }
      ]
    }
  ]
}