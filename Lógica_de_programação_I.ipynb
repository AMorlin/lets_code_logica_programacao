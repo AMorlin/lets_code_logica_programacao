{
  "nbformat": 4,
  "nbformat_minor": 0,
  "metadata": {
    "colab": {
      "provenance": [],
      "authorship_tag": "ABX9TyPNAFW8E7aiXESXEiXpxPQN",
      "include_colab_link": true
    },
    "kernelspec": {
      "name": "python3",
      "display_name": "Python 3"
    },
    "language_info": {
      "name": "python"
    }
  },
  "cells": [
    {
      "cell_type": "markdown",
      "metadata": {
        "id": "view-in-github",
        "colab_type": "text"
      },
      "source": [
        "<a href=\"https://colab.research.google.com/github/AMorlin/lets_code_logica_programacao/blob/main/L%C3%B3gica_de_programa%C3%A7%C3%A3o_I.ipynb\" target=\"_parent\"><img src=\"https://colab.research.google.com/assets/colab-badge.svg\" alt=\"Open In Colab\"/></a>"
      ]
    },
    {
      "cell_type": "markdown",
      "source": [
        "\n",
        "Faça um programa que imprima na tela apenas os números ímpares entre 1 e 50.\n",
        "---\n",
        "\n"
      ],
      "metadata": {
        "id": "odA2Vxxl_fXD"
      }
    },
    {
      "cell_type": "code",
      "source": [
        "cont = 0\n",
        "while cont < 50:\n",
        "    if cont%2:\n",
        "        print(cont)\n",
        "    cont+=1"
      ],
      "metadata": {
        "colab": {
          "base_uri": "https://localhost:8080/"
        },
        "id": "ico50unC_f6C",
        "outputId": "694b2af1-4ff6-4701-aaf8-139615988305"
      },
      "execution_count": 1,
      "outputs": [
        {
          "output_type": "stream",
          "name": "stdout",
          "text": [
            "1\n",
            "3\n",
            "5\n",
            "7\n",
            "9\n",
            "11\n",
            "13\n",
            "15\n",
            "17\n",
            "19\n",
            "21\n",
            "23\n",
            "25\n",
            "27\n",
            "29\n",
            "31\n",
            "33\n",
            "35\n",
            "37\n",
            "39\n",
            "41\n",
            "43\n",
            "45\n",
            "47\n",
            "49\n"
          ]
        }
      ]
    },
    {
      "cell_type": "markdown",
      "source": [
        "Fatorial de um número"
      ],
      "metadata": {
        "id": "GbhDLWXw_-1i"
      }
    },
    {
      "cell_type": "code",
      "source": [
        "numero = 5\n",
        "cont = 1\n",
        "resultado = 1\n",
        "while cont < numero:\n",
        "    resultado *= cont+1\n",
        "    cont +=1\n",
        "print(resultado)"
      ],
      "metadata": {
        "id": "RHPMgQ5UAGF6"
      },
      "execution_count": null,
      "outputs": []
    },
    {
      "cell_type": "code",
      "source": [
        "numero = 5\n",
        "resultado = 1\n",
        "for n in range(numero):\n",
        "    resultado *= n+1\n",
        "print(resultado)"
      ],
      "metadata": {
        "id": "Rn2kxDYGAHBK"
      },
      "execution_count": null,
      "outputs": []
    },
    {
      "cell_type": "code",
      "source": [
        "cont = 1\n",
        "while True:\n",
        "    cont += 1\n",
        "\n",
        "    if not cont%2:\n",
        "        print(cont)\n",
        "    else:\n",
        "        print('impar')\n",
        "        continue"
      ],
      "metadata": {
        "id": "dOJyrmiyAJVB"
      },
      "execution_count": null,
      "outputs": []
    },
    {
      "cell_type": "markdown",
      "source": [
        "Faça um programa que peça uma nota, entre zero e nove Mostre uma mensagem caso o valor seja inválido e continue pedindo até que o usuário informe um valor válido."
      ],
      "metadata": {
        "id": "0j3TVfnBAUlh"
      }
    },
    {
      "cell_type": "code",
      "source": [
        "num = int(input('digite uma nota: '))\n",
        "\n",
        "\n",
        "while num > 9:\n",
        "  num = int(input('digite uma nota: '))\n",
        "  continue\n",
        "if num <= 9:\n",
        "  print('válido')"
      ],
      "metadata": {
        "id": "OoJPq6mLAVWj"
      },
      "execution_count": null,
      "outputs": []
    },
    {
      "cell_type": "markdown",
      "source": [
        "Escreva um programa que solicita 5 números inteiros ao usuário, através de um laço while, e ao final mostre o maior número digitado pelo usuário."
      ],
      "metadata": {
        "id": "KdtcCqw-59sj"
      }
    },
    {
      "cell_type": "code",
      "source": [
        "contador = 1\n",
        "maior = int()\n",
        "\n",
        "while contador <= 5:\n",
        "    num = int(input('Digite um número: '))\n",
        "    contador +=1\n",
        "    \n",
        "    if num >= maior:\n",
        "        maior = int(num)\n",
        "\n",
        "print(maior)"
      ],
      "metadata": {
        "id": "9Vx0e7l66EcH",
        "colab": {
          "base_uri": "https://localhost:8080/"
        },
        "outputId": "3a4ebfad-f107-43cc-cc55-38faa7d60f00"
      },
      "execution_count": 2,
      "outputs": [
        {
          "output_type": "stream",
          "name": "stdout",
          "text": [
            "Digite um número: 10\n",
            "Digite um número: 5\n",
            "Digite um número: 800\n",
            "Digite um número: 23\n",
            "Digite um número: 1\n",
            "800\n"
          ]
        }
      ]
    },
    {
      "cell_type": "markdown",
      "source": [
        "Tabuada de multiplicação de um número inteiro\n",
        "de forma que seja impressa assim:\n",
        "\n",
        "5 x 1 = 5\n",
        "5 x 2 = 10\n",
        "5 x 3 = 15\n",
        "5 x 4 = 20\n",
        "5 x 5 = 25\n",
        "5 x 6 = 30\n",
        "5 x 7 = 35\n",
        "5 x 8 = 40\n",
        "5 x 9 = 45\n",
        "5 x 10 = 50"
      ],
      "metadata": {
        "id": "mAIQDOiM_WJF"
      }
    },
    {
      "cell_type": "code",
      "source": [
        "contador = 1\n",
        "num = int(input('Digite um número: '))\n",
        "while contador <= 10: \n",
        "    \n",
        "    print(f\"{num} x {contador} = \", (num * contador))\n",
        "    contador += 1"
      ],
      "metadata": {
        "colab": {
          "base_uri": "https://localhost:8080/"
        },
        "id": "QDMSq29c__qb",
        "outputId": "65a136c5-f244-4834-8a7b-50a73a3ef008"
      },
      "execution_count": null,
      "outputs": [
        {
          "output_type": "stream",
          "name": "stdout",
          "text": [
            "Digite um número: 10\n",
            "10 x 1 =  10\n",
            "10 x 2 =  20\n",
            "10 x 3 =  30\n",
            "10 x 4 =  40\n",
            "10 x 5 =  50\n",
            "10 x 6 =  60\n",
            "10 x 7 =  70\n",
            "10 x 8 =  80\n",
            "10 x 9 =  90\n",
            "10 x 10 =  100\n"
          ]
        }
      ]
    },
    {
      "cell_type": "markdown",
      "source": [],
      "metadata": {
        "id": "xC6Pp_WUQ0Mq"
      }
    },
    {
      "cell_type": "code",
      "source": [
        "num = int(input('Digite um número: '))\n",
        "for i in range(1,11):\n",
        "    print(f\"{num} x {i} = \", (num * i))"
      ],
      "metadata": {
        "colab": {
          "base_uri": "https://localhost:8080/"
        },
        "id": "OQ-6UjgRPWvP",
        "outputId": "a67c75c9-65e2-4eaf-d8d8-89e305fab5ee"
      },
      "execution_count": null,
      "outputs": [
        {
          "output_type": "stream",
          "name": "stdout",
          "text": [
            "Digite um número: 2\n",
            "2 x 1 =  2\n",
            "2 x 2 =  4\n",
            "2 x 3 =  6\n",
            "2 x 4 =  8\n",
            "2 x 5 =  10\n",
            "2 x 6 =  12\n",
            "2 x 7 =  14\n",
            "2 x 8 =  16\n",
            "2 x 9 =  18\n",
            "2 x 10 =  20\n"
          ]
        }
      ]
    },
    {
      "cell_type": "markdown",
      "source": [
        "Programa que receba uma palavra e\n",
        "imprima a quantidade de vogais e consoantes"
      ],
      "metadata": {
        "id": "xMjFFShKT6C7"
      }
    },
    {
      "cell_type": "code",
      "source": [
        "palavra = input('Digite uma palavra: ')\n",
        "vogais = 0\n",
        "consoantes = 0\n",
        "for i in palavra:\n",
        "    if i in 'aeiouAEIOU':\n",
        "        vogais += 1\n",
        "    else:\n",
        "        consoantes +=1\n",
        "print(f'A palavra {palavra} tem {vogais} vogais e {consoantes} consoantes')"
      ],
      "metadata": {
        "colab": {
          "base_uri": "https://localhost:8080/"
        },
        "id": "gyH7rEYET2_o",
        "outputId": "0566eb72-86c2-467e-96f1-1eb0a3281e66"
      },
      "execution_count": null,
      "outputs": [
        {
          "output_type": "stream",
          "name": "stdout",
          "text": [
            "Digite uma palavra: alexandre\n",
            "A palavra alexandre tem 4 vogais e 5 consoantes\n"
          ]
        }
      ]
    }
  ]
}