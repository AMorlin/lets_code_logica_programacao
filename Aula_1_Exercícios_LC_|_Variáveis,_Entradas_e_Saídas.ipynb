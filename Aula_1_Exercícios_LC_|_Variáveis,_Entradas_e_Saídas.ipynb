{
  "cells": [
    {
      "cell_type": "markdown",
      "metadata": {
        "id": "view-in-github",
        "colab_type": "text"
      },
      "source": [
        "<a href=\"https://colab.research.google.com/github/AMorlin/lets_code_logica_programacao/blob/main/Aula_1_Exerc%C3%ADcios_LC_%7C_Vari%C3%A1veis%2C_Entradas_e_Sa%C3%ADdas.ipynb\" target=\"_parent\"><img src=\"https://colab.research.google.com/assets/colab-badge.svg\" alt=\"Open In Colab\"/></a>"
      ]
    },
    {
      "cell_type": "markdown",
      "metadata": {
        "id": "IOSUJRoP0wND"
      },
      "source": [
        "**Questão #1**\n",
        "\n",
        "Faça um programa que mostre a mensagem \"Olá, mundo!\" na tela."
      ]
    },
    {
      "cell_type": "code",
      "execution_count": null,
      "metadata": {
        "id": "wIefJ4DzI5WP"
      },
      "outputs": [],
      "source": [
        "print(f\"Olá, mundo!\")"
      ]
    },
    {
      "cell_type": "markdown",
      "metadata": {
        "id": "Gq1Za7Hm08DD"
      },
      "source": [
        "**Questão #2**\n",
        "\n",
        "Faça um programa que peça um número e mostre a mensagem \"O número informado foi [número]\"."
      ]
    },
    {
      "cell_type": "code",
      "execution_count": null,
      "metadata": {
        "colab": {
          "base_uri": "https://localhost:8080/"
        },
        "id": "H1y3bgxPJELY",
        "outputId": "e188b2e7-c030-4974-a729-ad59eeec1a64"
      },
      "outputs": [
        {
          "name": "stdout",
          "output_type": "stream",
          "text": [
            "Digite um número: 4504\n",
            "O número informado foi 4504\n"
          ]
        }
      ],
      "source": [
        "numero = (input(\"Digite um número: \"))\n",
        "print(f\"O número informado foi {numero}\")"
      ]
    },
    {
      "cell_type": "markdown",
      "metadata": {
        "id": "aLkCAzNw1EZ0"
      },
      "source": [
        "**Questão #3**\n",
        "\n",
        "Faça um programa que peça um número para o usuário (string), converta-o para float e depois imprima-o na tela. Você consegue fazer a mesma coisa, porém convertendo para int?"
      ]
    },
    {
      "cell_type": "code",
      "execution_count": null,
      "metadata": {
        "colab": {
          "base_uri": "https://localhost:8080/"
        },
        "id": "yQ9YGDkjWZMm",
        "outputId": "143bb0fb-4491-467f-b955-dedf710f0345"
      },
      "outputs": [
        {
          "name": "stdout",
          "output_type": "stream",
          "text": [
            "Digite um número: 100\n",
            "O número informado foi 100.0 e foi convertido para <class 'float'>\n",
            "Digite um número: 200\n",
            "O número informado foi 200 e foi convertido para <class 'int'>\n"
          ]
        }
      ],
      "source": [
        "numero = (input(\"Digite um número: \"))\n",
        "numero = float(numero)\n",
        "print(f\"O número informado foi {numero} e foi convertido para {type(numero)}\")\n",
        "numero = (input(\"Digite um número: \"))\n",
        "numero = int(numero)\n",
        "print(f\"O número informado foi {numero} e foi convertido para {type(numero)}\")"
      ]
    },
    {
      "cell_type": "markdown",
      "metadata": {
        "id": "nJMmYpso1MfL"
      },
      "source": [
        "**Questão #4**\n",
        "\n",
        "Faça um programa que peça dois números inteiros e imprima a soma deles."
      ]
    },
    {
      "cell_type": "code",
      "execution_count": null,
      "metadata": {
        "colab": {
          "base_uri": "https://localhost:8080/"
        },
        "id": "bUJy7a9JX4Pj",
        "outputId": "e361b893-82b7-426a-e36c-923325cb4d9b"
      },
      "outputs": [
        {
          "name": "stdout",
          "output_type": "stream",
          "text": [
            "Digite um número: 10\n",
            "Digite um número: 20\n",
            "10 + 20 = 30\n"
          ]
        }
      ],
      "source": [
        "numero1 = int(input(\"Digite um número: \"))\n",
        "numero2 = int(input(\"Digite um número: \"))\n",
        "soma = numero1 + numero2\n",
        "print(f\"{numero1} + {numero2} = {soma}\")"
      ]
    },
    {
      "cell_type": "markdown",
      "metadata": {
        "id": "ypDZx4121voC"
      },
      "source": [
        "**Questão #5**\n",
        "\n",
        "Faça um programa que peça as 4 notas bimestrais de um aluno e mostre a média aritmética delas."
      ]
    },
    {
      "cell_type": "code",
      "execution_count": null,
      "metadata": {
        "colab": {
          "base_uri": "https://localhost:8080/"
        },
        "id": "obuWCiZubkyu",
        "outputId": "d14e8757-6413-48a7-bf88-309e4f88bc83"
      },
      "outputs": [
        {
          "name": "stdout",
          "output_type": "stream",
          "text": [
            "Digite a nota do 1º bimestre: 10\n",
            "Digite a nota do 2º bimestre: 0\n",
            "Digite a nota do 3º bimestre: 0\n",
            "Digite a nota do 4º bimestre: 0\n",
            "A média é: 2.5\n"
          ]
        }
      ],
      "source": [
        "nota1 = float(input(\"Digite a nota do 1º bimestre: \"))\n",
        "nota2 = float(input(\"Digite a nota do 2º bimestre: \"))\n",
        "nota3 = float(input(\"Digite a nota do 3º bimestre: \"))\n",
        "nota4 = float(input(\"Digite a nota do 4º bimestre: \"))\n",
        "media = (nota1 + nota2 + nota3 + nota4) / 4\n",
        "print(f\"A média é: {media}\")"
      ]
    },
    {
      "cell_type": "markdown",
      "metadata": {
        "id": "miKfrVh712Yj"
      },
      "source": [
        "**Questão #6**\n",
        "\n",
        "Faça um programa que peça o raio de um círculo, calcule e mostre sua área.\n",
        "\n",
        "Obs: Fórmula da área de um círculo: A = 3,14*(r**2), onde r é o raio."
      ]
    },
    {
      "cell_type": "code",
      "execution_count": null,
      "metadata": {
        "colab": {
          "base_uri": "https://localhost:8080/"
        },
        "id": "eknYNUdOygAJ",
        "outputId": "43089e1c-534e-4cd7-befc-9bacd71bc747"
      },
      "outputs": [
        {
          "name": "stdout",
          "output_type": "stream",
          "text": [
            "digite o raio do círculo: 12\n",
            "A área do círculo é: 452.16.\n"
          ]
        }
      ],
      "source": [
        "raio = float(input(\"Digite o raio do círculo: \"))\n",
        "area = float(3.14 * (raio ** 2))\n",
        "print(f\"A área do círculo é: {area}.\")"
      ]
    },
    {
      "cell_type": "markdown",
      "metadata": {
        "id": "EY3GoIHB0n-Q"
      },
      "source": [
        "**Questão #7**\n",
        "\n",
        "Faça um programa que pergunte quanto você ganha por hora e o número de horas trabalhadas no mês e depois, calcule e mostre o total do seu salário no referido mês."
      ]
    },
    {
      "cell_type": "code",
      "execution_count": null,
      "metadata": {
        "colab": {
          "base_uri": "https://localhost:8080/"
        },
        "id": "4d4vdx1O2WKe",
        "outputId": "c6df8fe5-3a37-468d-cd08-2a1d9d1f701e"
      },
      "outputs": [
        {
          "name": "stdout",
          "output_type": "stream",
          "text": [
            "Qual o valor da hora trabalhada?10\n",
            "Quantas horas você trabalhou no mês?100\n",
            "Seu salário nesse mês é: 1000.0.\n"
          ]
        }
      ],
      "source": [
        "valor_hora = float(input(\"Qual o valor da hora trabalhada?\"))\n",
        "num_horas = float(input(\"Quantas horas você trabalhou no mês?\"))\n",
        "salario = float(valor_hora * num_horas)\n",
        "print(f\"Seu salário nesse mês é: {salario}.\")"
      ]
    },
    {
      "cell_type": "markdown",
      "metadata": {
        "id": "69rhVmDK2gyT"
      },
      "source": [
        "**Questão #8**\n",
        "\n",
        "Faça um programa que peça a temperatura em graus Fahrenheit (F), transforme e mostre a temperatura em graus Celsius (°C).\n",
        "\n",
        "°C = (5 * (F-32) / 9)\n",
        "\n",
        "**Obs:** Tente também fazer um programa que faça o inverso: peça a temperatura em graus Celsius e a transforme em graus Fahrenheit."
      ]
    },
    {
      "cell_type": "code",
      "execution_count": null,
      "metadata": {
        "colab": {
          "base_uri": "https://localhost:8080/"
        },
        "id": "Sgq_dg0yzPN9",
        "outputId": "8cbec454-8fa3-4651-d49e-fe154b7708e4"
      },
      "outputs": [
        {
          "name": "stdout",
          "output_type": "stream",
          "text": [
            "Qual a temperatura em Fahrenheit: 92\n",
            "A temperatura em Graus Celcius é: 33.33°.\n"
          ]
        }
      ],
      "source": [
        "temp_f = int(input(\"Qual a temperatura em Fahrenheit: \"))\n",
        "temp_c = float(((5 * (temp_f -32)) / 9))\n",
        "print(f\"A temperatura em Graus Celcius é: {temp_c:,.2f}°.\")"
      ]
    },
    {
      "cell_type": "code",
      "execution_count": null,
      "metadata": {
        "colab": {
          "base_uri": "https://localhost:8080/"
        },
        "id": "Ml2-ayJI2meG",
        "outputId": "b7cca04c-a3dc-4259-eeae-0a23b7083e59"
      },
      "outputs": [
        {
          "name": "stdout",
          "output_type": "stream",
          "text": [
            "Qual a temperatura em Celcius: 33\n",
            "A temperatura em Graus Fahrenheit é: 91.40°.\n"
          ]
        }
      ],
      "source": [
        "temp_c = int(input(\"Qual a temperatura em Celcius: \"))\n",
        "temp_f = float((temp_c * 1.8) + 32)\n",
        "print(f\"A temperatura em Graus Fahrenheit é: {temp_f:,.2f}°.\")"
      ]
    },
    {
      "cell_type": "markdown",
      "metadata": {
        "id": "hZ_uEAHY3vlq"
      },
      "source": [
        "**Questão #9**\n",
        "\n",
        "Faça um programa que peça o dia, o mês e o ano para o usuário e imprima a data completa no formato dd/mm/aaaa."
      ]
    },
    {
      "cell_type": "code",
      "execution_count": null,
      "metadata": {
        "colab": {
          "base_uri": "https://localhost:8080/"
        },
        "id": "rTrnWeCZ30PM",
        "outputId": "3a6be931-46f5-460f-cd3e-c0fa42e10d20"
      },
      "outputs": [
        {
          "name": "stdout",
          "output_type": "stream",
          "text": [
            "Digite o dia de hoje: 18\n",
            "Digite o mês atual: 08\n",
            "Em que ano nós estamos? Digite: 2022\n",
            "Hoje é 18/08/2022\n"
          ]
        }
      ],
      "source": [
        "dia = input(\"Digite o dia de hoje: \")\n",
        "mes = input(\"Digite o mês atual: \")\n",
        "ano = input(\"Em que ano nós estamos? Digite: \")\n",
        "print(f\"Hoje é {dia}/{mes}/{ano}\")"
      ]
    },
    {
      "cell_type": "markdown",
      "metadata": {
        "id": "29VP3QU-0dL3"
      },
      "source": [
        "**Questão #10**\n",
        "\n",
        "Faça um programa que peça 2 números inteiros e um número real, calcule e mostre:\n",
        "\n",
        "a) o produto do dobro do primeiro com metade do segundo.\n",
        "\n",
        "b) a soma do triplo do primeiro com o terceiro.\n",
        "\n",
        "c) o terceiro elevado ao cubo."
      ]
    },
    {
      "cell_type": "code",
      "execution_count": null,
      "metadata": {
        "colab": {
          "base_uri": "https://localhost:8080/"
        },
        "id": "sB8AtdL90DI0",
        "outputId": "630a303f-089e-4644-f591-85cb6c7359a5"
      },
      "outputs": [
        {
          "name": "stdout",
          "output_type": "stream",
          "text": [
            "Digite um número: 10\n",
            "Digite outro número: 5\n",
            "Digite um terceiro número: 2\n",
            "a) o produto do dobro do primeiro com metade do segundo.\n",
            "50.0\n",
            "b) a soma do triplo do primeiro com o terceiro.\n",
            "32.0\n",
            "c) o terceiro elevado ao cubo.\n",
            "8.0\n"
          ]
        }
      ],
      "source": [
        "numero_int1 = int(input(\"Digite um número: \"))\n",
        "numero_int2 = int(input(\"Digite outro número: \"))\n",
        "numero_real = float(input(\"Digite um terceiro número: \"))\n",
        "print(f\"a) o produto do dobro do primeiro com metade do segundo.\\n{(numero_int1 * 2) * (numero_int2 / 2)}\")\n",
        "print(f\"b) a soma do triplo do primeiro com o terceiro.\\n{(numero_int1 * 3) + numero_real}\")\n",
        "print(f\"c) o terceiro elevado ao cubo.\\n{numero_real ** 3}\")"
      ]
    },
    {
      "cell_type": "markdown",
      "metadata": {
        "id": "pab3PtGs7Bx6"
      },
      "source": [
        "**Questão #11**\n",
        "\n",
        "Faça um programa que peça o peso e altura de uma pessoa e calcule seu IMC (Índice de Massa Corporal).\n",
        "\n",
        "Obs: IMC = Peso/Altura**2"
      ]
    },
    {
      "cell_type": "code",
      "execution_count": null,
      "metadata": {
        "colab": {
          "base_uri": "https://localhost:8080/"
        },
        "id": "XemK8TRNDIjY",
        "outputId": "40c87022-7d83-41db-ebb9-24a32f6e95fc"
      },
      "outputs": [
        {
          "name": "stdout",
          "output_type": "stream",
          "text": [
            "Digite o peso em kg: 70\n",
            "Digite a altura em m: 1.68\n",
            "O  IMC (Índice de Massa Corporal) é 20.83\n"
          ]
        }
      ],
      "source": [
        "peso = float(input(\"Digite o peso em kg: \"))\n",
        "altura = float(input(\"Digite a altura em m: \"))\n",
        "imc = float(peso / (altura * 2))\n",
        "print(f\"O  IMC (Índice de Massa Corporal) é {imc:,.2f}\")"
      ]
    },
    {
      "cell_type": "markdown",
      "metadata": {
        "id": "tY1ZoaVlDT4z"
      },
      "source": [
        "**Questão #12**\n",
        "\n",
        "Faça um programa que peça um valor monetário e aumente-o em 15%. Seu programa deve imprimir a mensagem “O novo valor é [valor]”."
      ]
    },
    {
      "cell_type": "code",
      "execution_count": null,
      "metadata": {
        "colab": {
          "base_uri": "https://localhost:8080/"
        },
        "id": "3f58CPTr7FpL",
        "outputId": "9e34d60c-7b7a-4216-ec5c-9d3323a4a64d"
      },
      "outputs": [
        {
          "name": "stdout",
          "output_type": "stream",
          "text": [
            "Digite um valor monetário: 1525.12\n",
            "O novo valor é 1,753.89\n"
          ]
        }
      ],
      "source": [
        "valor = float(input(\"Digite um valor monetário: \"))\n",
        "valor_corrigido = float(valor * 1.15)\n",
        "print(f\"O novo valor é {valor_corrigido:,.2f}\")"
      ]
    },
    {
      "cell_type": "markdown",
      "metadata": {
        "id": "OJgeQW4aIswU"
      },
      "source": [
        "**Questão #13**\n",
        "\n",
        "Faça um programa que peça um valor monetário e diminua-o em 15%. Seu programa deve imprimir a mensagem “O novo valor é [valor]”."
      ]
    },
    {
      "cell_type": "code",
      "execution_count": null,
      "metadata": {
        "colab": {
          "base_uri": "https://localhost:8080/"
        },
        "id": "5gdlKIT5I5bF",
        "outputId": "6f1c8d1c-6f74-449f-e3d2-c2322fedf2ce"
      },
      "outputs": [
        {
          "name": "stdout",
          "output_type": "stream",
          "text": [
            "Digite um valor monetário: 100\n",
            "O novo valor é 85.00\n"
          ]
        }
      ],
      "source": [
        "valor = float(input(\"Digite um valor monetário: \"))\n",
        "valor_corrigido = float(valor * 0.85)\n",
        "print(f\"O novo valor é {valor_corrigido:,.2f}\")"
      ]
    },
    {
      "cell_type": "markdown",
      "metadata": {
        "id": "PaYOsfgiJX1d"
      },
      "source": [
        "**Questão #14**\n",
        "\n",
        "**Desafio 1** - Peça para o usuário digitar uma velocidade inicial (em m/s), uma posição inicial (em m) e um instante de tempo (em s) e imprima a posição de um projétil nesse instante de tempo.\n",
        "\n",
        "Use a fórmula matemática:\n",
        "\n",
        " y(t) = y(0) + v(0)*t + (g*(t**2)/2)\n",
        "\n",
        "Onde, g é a aceleração da gravidade (-10m/s²), y(t) é a posição final, y(0) é a posição inicial, v(0) é a velocidade inicial e t é o instante de tempo."
      ]
    },
    {
      "cell_type": "code",
      "execution_count": null,
      "metadata": {
        "id": "vi9eAJTlKAFN",
        "colab": {
          "base_uri": "https://localhost:8080/"
        },
        "outputId": "c432040e-6a6d-49de-fab7-37cd26aefbe6"
      },
      "outputs": [
        {
          "output_type": "stream",
          "name": "stdout",
          "text": [
            "Digite a velocidade inicial (em m/s): 0.8\n",
            "Digite a posição inicial (em m): 2\n",
            "Digite um instante de tempo: 1\n",
            "A posição do projéjil no instante de tempo 1.0s é: -2.20m\n"
          ]
        }
      ],
      "source": [
        "velocidade_inicial = float(input(\"Digite a velocidade inicial (em m/s): \"))\n",
        "posicao_inicial = float(input(\"Digite a posição inicial (em m): \"))\n",
        "tempo = float(input(\"Digite um instante de tempo: \"))\n",
        "gravidade = -10\n",
        "posicao = float(posicao_inicial + (velocidade_inicial * tempo) + ((gravidade * (tempo ** 2)) / 2))\n",
        "print(f\"A posição do projéjil no instante de tempo {tempo}s é: {posicao:,.2f}m\")\n"
      ]
    },
    {
      "cell_type": "markdown",
      "metadata": {
        "id": "CT3izwJQgiX4"
      },
      "source": [
        "**Questão #15**\n",
        "\n",
        "**Desafio 2** - Faça um programa que informe a data e a hora para o usuário. Para isso use a função datetime.now() do módulo datetime."
      ]
    },
    {
      "cell_type": "code",
      "execution_count": null,
      "metadata": {
        "colab": {
          "base_uri": "https://localhost:8080/"
        },
        "id": "um0xnImggZpo",
        "outputId": "511a9b91-f193-4137-f40c-9adc1eccbf8a"
      },
      "outputs": [
        {
          "name": "stdout",
          "output_type": "stream",
          "text": [
            "A data atual é 18/8/2022 e agora são 19:50:55\n"
          ]
        }
      ],
      "source": [
        "from datetime import datetime, tzinfo\n",
        "data_atual = datetime.now()\n",
        "# print(data_atual)\n",
        "data_atual_formatado = \"{}/{}/{}\".format(data_atual.day, data_atual.month, data_atual.year)\n",
        "hora_atual_formatado = \"{}:{}:{}\".format(data_atual.hour, data_atual.minute, data_atual.second)\n",
        "print(f\"A data atual é {data_atual_formatado} e agora são {hora_atual_formatado}\")"
      ]
    },
    {
      "cell_type": "code",
      "source": [
        "import math\n",
        "area = float(input(\"Qual a área a ser pintada? Digite a área em m2: \"))\n",
        "litros = float(area / 6)\n",
        "litros_arredonda = math.ceil(litros) # arredonda a qtde de litros para o proximo inteiro\n",
        "lata = float(litros / 18)\n",
        "lata_arredonda = math.ceil(lata) # arredonda as latas para o proximo inteiro\n",
        "preco_lata = float(lata_arredonda * 80)\n",
        "galao = float(litros / 3.6)\n",
        "galao_arredonda = math.ceil(galao) # arredonda os galoes para o proximo inteiro\n",
        "preco_galao = float(galao_arredonda * 25)\n",
        "latas = (litros_arredonda // 18) # qtde de latas inteiras\n",
        "galoes = math.ceil((litros_arredonda % 18) / 3.6) # resto da divisão de latas divido pela quantidade de litros nos galoes\n",
        "print(f\"Será preciso {round(litros, 0)} litros de tinta.\")\n",
        "print(f\"Comprando apenas latas, será preciso comprar {lata_arredonda} latas e custará R$ {preco_lata}\")\n",
        "print(f\"Comprando apenas galões, será preciso comprar {galao_arredonda} galões e custará R$ {preco_galao}\")\n",
        "print(f\"Misturando latas e galoes, será preciso comprar {latas} lastas e {galoes} galões e custará R$ {(latas*80)+(galoes*25)}\")"
      ],
      "metadata": {
        "colab": {
          "base_uri": "https://localhost:8080/"
        },
        "id": "UWIwRJM9fBIm",
        "outputId": "1cf8f06d-d57a-40c5-937b-47173ac5c527"
      },
      "execution_count": null,
      "outputs": [
        {
          "output_type": "stream",
          "name": "stdout",
          "text": [
            "Qual a área a ser pintada? Digite a área em m2: 1000\n",
            "Será preciso 167.0 litros de tinta.\n",
            "Comprando apenas latas, será preciso comprar 10 latas e custará R$ 800.0\n",
            "Comprando apenas galões, será preciso comprar 47 galões e custará R$ 1175.0\n",
            "Misturando latas e galoes, será preciso comprar 9 lastas e 2 galões e custará R$ 770\n"
          ]
        }
      ]
    }
  ],
  "metadata": {
    "colab": {
      "collapsed_sections": [],
      "provenance": [],
      "include_colab_link": true
    },
    "kernelspec": {
      "display_name": "Python 3.10.5 64-bit",
      "language": "python",
      "name": "python3"
    },
    "language_info": {
      "codemirror_mode": {
        "name": "ipython",
        "version": 3
      },
      "file_extension": ".py",
      "mimetype": "text/x-python",
      "name": "python",
      "nbconvert_exporter": "python",
      "pygments_lexer": "ipython3",
      "version": "3.10.5"
    },
    "vscode": {
      "interpreter": {
        "hash": "b3569a3ffe6e7cf50228855bc9e68d10d314780287fba35634b733d31f8269f3"
      }
    }
  },
  "nbformat": 4,
  "nbformat_minor": 0
}