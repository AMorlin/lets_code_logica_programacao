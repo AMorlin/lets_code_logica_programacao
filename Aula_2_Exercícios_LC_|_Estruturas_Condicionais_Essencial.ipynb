{
  "nbformat": 4,
  "nbformat_minor": 0,
  "metadata": {
    "colab": {
      "provenance": [],
      "collapsed_sections": [],
      "authorship_tag": "ABX9TyOH31C8kdfi0y8s3iyHo+/v",
      "include_colab_link": true
    },
    "kernelspec": {
      "name": "python3",
      "display_name": "Python 3"
    },
    "language_info": {
      "name": "python"
    }
  },
  "cells": [
    {
      "cell_type": "markdown",
      "metadata": {
        "id": "view-in-github",
        "colab_type": "text"
      },
      "source": [
        "<a href=\"https://colab.research.google.com/github/AMorlin/lets_code_logica_programacao/blob/main/Aula_2_Exerc%C3%ADcios_LC_%7C_Estruturas_Condicionais_Essencial.ipynb\" target=\"_parent\"><img src=\"https://colab.research.google.com/assets/colab-badge.svg\" alt=\"Open In Colab\"/></a>"
      ]
    },
    {
      "cell_type": "markdown",
      "source": [
        "**Questão #1**\n",
        "\n",
        "Faça um programa que peça a idade do usuário e imprima se ele é maior ou menor de 18 anos."
      ],
      "metadata": {
        "id": "nRlvhdM-ZqZH"
      }
    },
    {
      "cell_type": "code",
      "source": [
        "idade = int(input(\"Digite sua idade: \"))\n",
        "\n",
        "if idade >= 18:\n",
        "    print(\"Você é maior de 18 anos.\")\n",
        "else:\n",
        "    print(\"Você é menor de 18 anos.\")"
      ],
      "metadata": {
        "colab": {
          "base_uri": "https://localhost:8080/"
        },
        "id": "YaXAy3NWZvc2",
        "outputId": "c6a2ab2e-4150-44da-efa4-c131383b2667"
      },
      "execution_count": null,
      "outputs": [
        {
          "output_type": "stream",
          "name": "stdout",
          "text": [
            "Digite sua idade: 0\n",
            "Você é menor de 18 anos.\n"
          ]
        }
      ]
    },
    {
      "cell_type": "markdown",
      "source": [
        "**Questão #2**\n",
        "\n",
        "Faça um programa que peça um número e mostre se ele é positivo ou negativo."
      ],
      "metadata": {
        "id": "nPZx4iN2Zv5i"
      }
    },
    {
      "cell_type": "code",
      "source": [
        "numero = float(input(\"Digite um número: \"))\n",
        "\n",
        "if numero > 0:\n",
        "    print(f\"O número {numero} é positivo.\")\n",
        "elif numero < 0:\n",
        "    print(f\"O número {numero} é negativo.\")\n",
        "else:\n",
        "    print(f\"O número {numero} é neutro.\")\n"
      ],
      "metadata": {
        "colab": {
          "base_uri": "https://localhost:8080/"
        },
        "id": "6mgYY308Z1Xf",
        "outputId": "fdad63b2-7ccd-45c9-e7f7-4bf4853d5926"
      },
      "execution_count": null,
      "outputs": [
        {
          "output_type": "stream",
          "name": "stdout",
          "text": [
            "Digite um número: -10\n",
            "O número -10.0 é negativo.\n"
          ]
        }
      ]
    },
    {
      "cell_type": "markdown",
      "source": [
        "**Questão #3**\n",
        "\n",
        "Faça um programa que peça dois números e mostre o maior deles."
      ],
      "metadata": {
        "id": "G292cvsdZ1rn"
      }
    },
    {
      "cell_type": "code",
      "source": [
        "numero1 = float(input(\"Digite um número: \"))\n",
        "numero2 = float(input(\"Digite outro número: \"))\n",
        "\n",
        "if numero1 > numero2:\n",
        "    print(f\"O maior deles é o número: {numero1}\")\n",
        "elif numero1 < numero2:\n",
        "    print(f\" O maior deles é o número: {numero2}\")\n",
        "else:\n",
        "    print(f\"Os números são iguais.\")"
      ],
      "metadata": {
        "colab": {
          "base_uri": "https://localhost:8080/"
        },
        "id": "3U29iv2jZ5-u",
        "outputId": "69e82fac-3141-4257-94c3-ac9b0dbe2b28"
      },
      "execution_count": null,
      "outputs": [
        {
          "output_type": "stream",
          "name": "stdout",
          "text": [
            "Digite um número: 5\n",
            "Digite outro número: 5\n",
            "Os números são iguais.\n"
          ]
        }
      ]
    },
    {
      "cell_type": "markdown",
      "source": [
        "**Questão #4**\n",
        "\n",
        "Faça um programa que leia a validade das informações:\n",
        "\n",
        "a. Idade: entre 0 e 150;\n",
        "\n",
        "b. Salário: maior que 0;\n",
        "\n",
        "c. Sexo: M, F ou Outro;\n",
        "\n",
        "O programa deve imprimir uma mensagem de erro para cada informação inválida."
      ],
      "metadata": {
        "id": "PcUhArnSZ6SR"
      }
    },
    {
      "cell_type": "code",
      "source": [
        "idade = int(input(\"Digite sua idade: \"))\n",
        "salario = int(input(\"Digite o seu Salário: \"))\n",
        "sexo = input(\"Digite o sexo  'm' para masculino, 'f' para feminino ou 'o' para outro): \")\n",
        "\n",
        "while (idade < 0) or (idade > 150):\n",
        "    print(\"Voce deve ter entre 0 e 150 anos: \")\n",
        "    idade = int(input(\"Digite novamente sua idade: \"))\n",
        "\n",
        "while (salario<0):\n",
        "    print(\"O salário precisa ser maior que 0: \")\n",
        "    salario = int(input(\"Digite novamente o seu salário: \"))\n",
        "\n",
        "while (sexo!= 'f') and (sexo!='m') and (sexo!='o'):\n",
        "    sexo = input(\"O sexo deve ser 'm'asculino, 'f'eminino ou 'o'utro: \")\n",
        "\n",
        "print(\"Todas as nformações foram validadas com sucesso.\")"
      ],
      "metadata": {
        "colab": {
          "base_uri": "https://localhost:8080/"
        },
        "id": "yM_0CQckjL1Z",
        "outputId": "2f9efd82-f144-45ec-9480-1e6227577264"
      },
      "execution_count": null,
      "outputs": [
        {
          "output_type": "stream",
          "name": "stdout",
          "text": [
            "Digite sua idade: -1\n",
            "Digite o seu Salário: -1\n",
            "Digite o sexo  'm' para masculino, 'f' para feminino ou 'o' para outro): t\n",
            "Voce deve ter entre 0 e 150 anos: \n",
            "Digite novamente sua idade: 20\n",
            "O salário precisa ser maior que 0: \n",
            "Digite novamente o seu salário: -1\n",
            "O salário precisa ser maior que 0: \n",
            "Digite novamente o seu salário: -1\n",
            "O salário precisa ser maior que 0: \n",
            "Digite novamente o seu salário: 1000\n",
            "O sexo deve ser 'm'asculino, 'f'eminino ou 'o'utro: m\n",
            "Todas as nformações foram validadas com sucesso.\n"
          ]
        }
      ]
    },
    {
      "cell_type": "code",
      "source": [
        "idade = int(input(\"Digite sua idade: \"))\n",
        "if idade < 0 or idade > 150:\n",
        "    print(\"A idade está fora do intervalo (0 a 150).\")\n",
        "else:\n",
        "    print(\"Idade ok.\")\n",
        "\n",
        "salario = float(input(\"Digite o seu Salário: \"))\n",
        "if salario <= 0:\n",
        "    print(\"O salário é menor ou igual a 0.\")\n",
        "else:\n",
        "    print(\"Salário Ok\")\n",
        "\n",
        "sexo = input(\"Digite o sexo 'f' para feminino, 'm' para masculino, ou 'o' para outro): \")\n",
        "if (sexo!='f') and (sexo!='m') and (sexo!='o'):\n",
        "    print(\"O sexo informado não está correto.\")\n",
        "else:\n",
        "    print(\"Sexo OK.\")"
      ],
      "metadata": {
        "colab": {
          "base_uri": "https://localhost:8080/"
        },
        "id": "agbshggJVD7B",
        "outputId": "c2afe69f-fbcf-4c55-df38-ae45a2f53504"
      },
      "execution_count": null,
      "outputs": [
        {
          "output_type": "stream",
          "name": "stdout",
          "text": [
            "Digite sua idade: 100\n",
            "Idade ok.\n",
            "Digite o seu Salário: 100\n",
            "Salário Ok\n",
            "Digite o sexo 'f' para feminino, 'm' para masculino, ou 'o' para outro): f\n",
            "Sexo OK.\n"
          ]
        }
      ]
    }
  ]
}